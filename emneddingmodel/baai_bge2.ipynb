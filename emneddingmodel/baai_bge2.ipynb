{
  "nbformat": 4,
  "nbformat_minor": 0,
  "metadata": {
    "colab": {
      "provenance": [],
      "gpuType": "T4"
    },
    "kernelspec": {
      "name": "python3",
      "display_name": "Python 3"
    },
    "language_info": {
      "name": "python"
    },
    "accelerator": "GPU",
    "widgets": {
      "application/vnd.jupyter.widget-state+json": {
        "db6624e2f0804356be5b5a9508e06907": {
          "model_module": "@jupyter-widgets/controls",
          "model_name": "HBoxModel",
          "model_module_version": "1.5.0",
          "state": {
            "_dom_classes": [],
            "_model_module": "@jupyter-widgets/controls",
            "_model_module_version": "1.5.0",
            "_model_name": "HBoxModel",
            "_view_count": null,
            "_view_module": "@jupyter-widgets/controls",
            "_view_module_version": "1.5.0",
            "_view_name": "HBoxView",
            "box_style": "",
            "children": [
              "IPY_MODEL_37f5d808106a43f99ce7f0002c8739a6",
              "IPY_MODEL_9dbcc5e1367b457e829063816b7b9831",
              "IPY_MODEL_212f7be0446f4940aecffb4b06672937"
            ],
            "layout": "IPY_MODEL_11a21daed24d4a8c938738883b41eee7"
          }
        },
        "37f5d808106a43f99ce7f0002c8739a6": {
          "model_module": "@jupyter-widgets/controls",
          "model_name": "HTMLModel",
          "model_module_version": "1.5.0",
          "state": {
            "_dom_classes": [],
            "_model_module": "@jupyter-widgets/controls",
            "_model_module_version": "1.5.0",
            "_model_name": "HTMLModel",
            "_view_count": null,
            "_view_module": "@jupyter-widgets/controls",
            "_view_module_version": "1.5.0",
            "_view_name": "HTMLView",
            "description": "",
            "description_tooltip": null,
            "layout": "IPY_MODEL_443561dc62494abe9f5be3f6a5fee3e7",
            "placeholder": "​",
            "style": "IPY_MODEL_568960291fe74f7bac22d82b9de7e224",
            "value": "Computing widget examples:   0%"
          }
        },
        "9dbcc5e1367b457e829063816b7b9831": {
          "model_module": "@jupyter-widgets/controls",
          "model_name": "FloatProgressModel",
          "model_module_version": "1.5.0",
          "state": {
            "_dom_classes": [],
            "_model_module": "@jupyter-widgets/controls",
            "_model_module_version": "1.5.0",
            "_model_name": "FloatProgressModel",
            "_view_count": null,
            "_view_module": "@jupyter-widgets/controls",
            "_view_module_version": "1.5.0",
            "_view_name": "ProgressView",
            "bar_style": "",
            "description": "",
            "description_tooltip": null,
            "layout": "IPY_MODEL_6dee228ed1024119b02c82fde2070e10",
            "max": 1,
            "min": 0,
            "orientation": "horizontal",
            "style": "IPY_MODEL_77d0652366dc4116846e2fe9d724cfdc",
            "value": 1
          }
        },
        "212f7be0446f4940aecffb4b06672937": {
          "model_module": "@jupyter-widgets/controls",
          "model_name": "HTMLModel",
          "model_module_version": "1.5.0",
          "state": {
            "_dom_classes": [],
            "_model_module": "@jupyter-widgets/controls",
            "_model_module_version": "1.5.0",
            "_model_name": "HTMLModel",
            "_view_count": null,
            "_view_module": "@jupyter-widgets/controls",
            "_view_module_version": "1.5.0",
            "_view_name": "HTMLView",
            "description": "",
            "description_tooltip": null,
            "layout": "IPY_MODEL_0f195df84610433397fed6e2a7ed572c",
            "placeholder": "​",
            "style": "IPY_MODEL_2a1c67ee540849b18819754d7fd1e7b3",
            "value": " 0/1 [00:00&lt;?, ?example/s]"
          }
        },
        "11a21daed24d4a8c938738883b41eee7": {
          "model_module": "@jupyter-widgets/base",
          "model_name": "LayoutModel",
          "model_module_version": "1.2.0",
          "state": {
            "_model_module": "@jupyter-widgets/base",
            "_model_module_version": "1.2.0",
            "_model_name": "LayoutModel",
            "_view_count": null,
            "_view_module": "@jupyter-widgets/base",
            "_view_module_version": "1.2.0",
            "_view_name": "LayoutView",
            "align_content": null,
            "align_items": null,
            "align_self": null,
            "border": null,
            "bottom": null,
            "display": null,
            "flex": null,
            "flex_flow": null,
            "grid_area": null,
            "grid_auto_columns": null,
            "grid_auto_flow": null,
            "grid_auto_rows": null,
            "grid_column": null,
            "grid_gap": null,
            "grid_row": null,
            "grid_template_areas": null,
            "grid_template_columns": null,
            "grid_template_rows": null,
            "height": null,
            "justify_content": null,
            "justify_items": null,
            "left": null,
            "margin": null,
            "max_height": null,
            "max_width": null,
            "min_height": null,
            "min_width": null,
            "object_fit": null,
            "object_position": null,
            "order": null,
            "overflow": null,
            "overflow_x": null,
            "overflow_y": null,
            "padding": null,
            "right": null,
            "top": null,
            "visibility": "hidden",
            "width": null
          }
        },
        "443561dc62494abe9f5be3f6a5fee3e7": {
          "model_module": "@jupyter-widgets/base",
          "model_name": "LayoutModel",
          "model_module_version": "1.2.0",
          "state": {
            "_model_module": "@jupyter-widgets/base",
            "_model_module_version": "1.2.0",
            "_model_name": "LayoutModel",
            "_view_count": null,
            "_view_module": "@jupyter-widgets/base",
            "_view_module_version": "1.2.0",
            "_view_name": "LayoutView",
            "align_content": null,
            "align_items": null,
            "align_self": null,
            "border": null,
            "bottom": null,
            "display": null,
            "flex": null,
            "flex_flow": null,
            "grid_area": null,
            "grid_auto_columns": null,
            "grid_auto_flow": null,
            "grid_auto_rows": null,
            "grid_column": null,
            "grid_gap": null,
            "grid_row": null,
            "grid_template_areas": null,
            "grid_template_columns": null,
            "grid_template_rows": null,
            "height": null,
            "justify_content": null,
            "justify_items": null,
            "left": null,
            "margin": null,
            "max_height": null,
            "max_width": null,
            "min_height": null,
            "min_width": null,
            "object_fit": null,
            "object_position": null,
            "order": null,
            "overflow": null,
            "overflow_x": null,
            "overflow_y": null,
            "padding": null,
            "right": null,
            "top": null,
            "visibility": null,
            "width": null
          }
        },
        "568960291fe74f7bac22d82b9de7e224": {
          "model_module": "@jupyter-widgets/controls",
          "model_name": "DescriptionStyleModel",
          "model_module_version": "1.5.0",
          "state": {
            "_model_module": "@jupyter-widgets/controls",
            "_model_module_version": "1.5.0",
            "_model_name": "DescriptionStyleModel",
            "_view_count": null,
            "_view_module": "@jupyter-widgets/base",
            "_view_module_version": "1.2.0",
            "_view_name": "StyleView",
            "description_width": ""
          }
        },
        "6dee228ed1024119b02c82fde2070e10": {
          "model_module": "@jupyter-widgets/base",
          "model_name": "LayoutModel",
          "model_module_version": "1.2.0",
          "state": {
            "_model_module": "@jupyter-widgets/base",
            "_model_module_version": "1.2.0",
            "_model_name": "LayoutModel",
            "_view_count": null,
            "_view_module": "@jupyter-widgets/base",
            "_view_module_version": "1.2.0",
            "_view_name": "LayoutView",
            "align_content": null,
            "align_items": null,
            "align_self": null,
            "border": null,
            "bottom": null,
            "display": null,
            "flex": null,
            "flex_flow": null,
            "grid_area": null,
            "grid_auto_columns": null,
            "grid_auto_flow": null,
            "grid_auto_rows": null,
            "grid_column": null,
            "grid_gap": null,
            "grid_row": null,
            "grid_template_areas": null,
            "grid_template_columns": null,
            "grid_template_rows": null,
            "height": null,
            "justify_content": null,
            "justify_items": null,
            "left": null,
            "margin": null,
            "max_height": null,
            "max_width": null,
            "min_height": null,
            "min_width": null,
            "object_fit": null,
            "object_position": null,
            "order": null,
            "overflow": null,
            "overflow_x": null,
            "overflow_y": null,
            "padding": null,
            "right": null,
            "top": null,
            "visibility": null,
            "width": null
          }
        },
        "77d0652366dc4116846e2fe9d724cfdc": {
          "model_module": "@jupyter-widgets/controls",
          "model_name": "ProgressStyleModel",
          "model_module_version": "1.5.0",
          "state": {
            "_model_module": "@jupyter-widgets/controls",
            "_model_module_version": "1.5.0",
            "_model_name": "ProgressStyleModel",
            "_view_count": null,
            "_view_module": "@jupyter-widgets/base",
            "_view_module_version": "1.2.0",
            "_view_name": "StyleView",
            "bar_color": null,
            "description_width": ""
          }
        },
        "0f195df84610433397fed6e2a7ed572c": {
          "model_module": "@jupyter-widgets/base",
          "model_name": "LayoutModel",
          "model_module_version": "1.2.0",
          "state": {
            "_model_module": "@jupyter-widgets/base",
            "_model_module_version": "1.2.0",
            "_model_name": "LayoutModel",
            "_view_count": null,
            "_view_module": "@jupyter-widgets/base",
            "_view_module_version": "1.2.0",
            "_view_name": "LayoutView",
            "align_content": null,
            "align_items": null,
            "align_self": null,
            "border": null,
            "bottom": null,
            "display": null,
            "flex": null,
            "flex_flow": null,
            "grid_area": null,
            "grid_auto_columns": null,
            "grid_auto_flow": null,
            "grid_auto_rows": null,
            "grid_column": null,
            "grid_gap": null,
            "grid_row": null,
            "grid_template_areas": null,
            "grid_template_columns": null,
            "grid_template_rows": null,
            "height": null,
            "justify_content": null,
            "justify_items": null,
            "left": null,
            "margin": null,
            "max_height": null,
            "max_width": null,
            "min_height": null,
            "min_width": null,
            "object_fit": null,
            "object_position": null,
            "order": null,
            "overflow": null,
            "overflow_x": null,
            "overflow_y": null,
            "padding": null,
            "right": null,
            "top": null,
            "visibility": null,
            "width": null
          }
        },
        "2a1c67ee540849b18819754d7fd1e7b3": {
          "model_module": "@jupyter-widgets/controls",
          "model_name": "DescriptionStyleModel",
          "model_module_version": "1.5.0",
          "state": {
            "_model_module": "@jupyter-widgets/controls",
            "_model_module_version": "1.5.0",
            "_model_name": "DescriptionStyleModel",
            "_view_count": null,
            "_view_module": "@jupyter-widgets/base",
            "_view_module_version": "1.2.0",
            "_view_name": "StyleView",
            "description_width": ""
          }
        }
      }
    }
  },
  "cells": [
    {
      "cell_type": "code",
      "source": [
        "!pip install transformers torch sentence-transformers datasets -q"
      ],
      "metadata": {
        "id": "WhkVbgRtPEJP"
      },
      "execution_count": 1,
      "outputs": []
    },
    {
      "cell_type": "code",
      "source": [
        "# ==============================================================================\n",
        "# Step 2: Imports and the Corrected, Definitive Custom Model\n",
        "# ==============================================================================\n",
        "import torch\n",
        "import torch.nn as nn\n",
        "import torch.nn.functional as F\n",
        "from datasets import load_dataset\n",
        "from torch.utils.data import DataLoader\n",
        "from sentence_transformers import SentenceTransformer, InputExample, losses\n",
        "from sentence_transformers.evaluation import EmbeddingSimilarityEvaluator\n",
        "# This is the correct base class to inherit from for full compatibility\n",
        "from sentence_transformers.models import Transformer\n",
        "import math\n",
        "\n",
        "print(\"Libraries installed and imported successfully.\")"
      ],
      "metadata": {
        "colab": {
          "base_uri": "https://localhost:8080/"
        },
        "id": "xemdzgWYPGGK",
        "outputId": "2555e5dd-652b-45e3-ae34-424b3b282f9f"
      },
      "execution_count": 2,
      "outputs": [
        {
          "output_type": "stream",
          "name": "stdout",
          "text": [
            "Libraries installed and imported successfully.\n"
          ]
        }
      ]
    },
    {
      "cell_type": "code",
      "source": [
        "def normalize_embeddings(embeddings):\n",
        "    \"\"\" Helper function to L2 normalize embeddings. \"\"\"\n",
        "    return F.normalize(embeddings, p=2, dim=1)"
      ],
      "metadata": {
        "id": "T0qziFDyPMTv"
      },
      "execution_count": 3,
      "outputs": []
    },
    {
      "cell_type": "code",
      "source": [
        "class CustomBGETransformer(Transformer):\n",
        "    \"\"\"\n",
        "    This is the definitive, corrected custom model.\n",
        "    It inherits from `sentence_transformers.models.Transformer`, which automatically\n",
        "    provides all necessary methods like `.save()` and `.tokenize()`.\n",
        "    \"\"\"\n",
        "    def __init__(self, model_name_or_path, pooling_strategy='mean', projection_dim=None, **kwargs):\n",
        "        # Initialize the parent Transformer class. This handles loading the\n",
        "        # underlying Hugging Face model and tokenizer.\n",
        "        super().__init__(model_name_or_path, **kwargs)\n",
        "\n",
        "        if pooling_strategy not in ['cls', 'mean']:\n",
        "            raise ValueError(\"pooling_strategy must be one of 'cls' or 'mean'\")\n",
        "        self.pooling_strategy = pooling_strategy\n",
        "        self.projection_dim = projection_dim\n",
        "\n",
        "        # The parent class stores the model's hidden size\n",
        "        hidden_size = self.get_word_embedding_dimension()\n",
        "\n",
        "        # Define our optional, custom projection head\n",
        "        if self.projection_dim is not None:\n",
        "            self.projection_head = nn.Sequential(\n",
        "                nn.Linear(hidden_size, hidden_size),\n",
        "                nn.GELU(),\n",
        "                nn.Linear(hidden_size, self.projection_dim)\n",
        "            )\n",
        "        else:\n",
        "            self.projection_head = None\n",
        "\n",
        "        print(f\"\\nCustomBGETransformer initialized with:\")\n",
        "        print(f\"  - Base Model: {model_name_or_path}\")\n",
        "        print(f\"  - Pooling Strategy: {self.pooling_strategy}\")\n",
        "        print(f\"  - Projection Head: {'Yes (' + str(self.projection_dim) + '-dim)' if self.projection_head else 'No'}\")\n",
        "\n",
        "    def _mean_pooling(self, last_hidden_state, attention_mask):\n",
        "        input_mask_expanded = attention_mask.unsqueeze(-1).expand(last_hidden_state.size()).float()\n",
        "        sum_embeddings = torch.sum(last_hidden_state * input_mask_expanded, 1)\n",
        "        sum_mask = torch.clamp(input_mask_expanded.sum(1), min=1e-9)\n",
        "        return sum_embeddings / sum_mask\n",
        "\n",
        "    def forward(self, features):\n",
        "        \"\"\"\n",
        "        This forward pass modifies the output of the standard Transformer.\n",
        "        \"\"\"\n",
        "        # Run the standard forward pass of the parent Transformer class.\n",
        "        # This populates `features` with `token_embeddings`, `attention_mask`, etc.\n",
        "        features = super().forward(features)\n",
        "\n",
        "        last_hidden_state = features['token_embeddings']\n",
        "        attention_mask = features['attention_mask']\n",
        "\n",
        "        # Apply our custom pooling logic\n",
        "        if self.pooling_strategy == 'cls':\n",
        "            pooled_embeddings = last_hidden_state[:, 0]\n",
        "        else: # 'mean'\n",
        "            pooled_embeddings = self._mean_pooling(last_hidden_state, attention_mask)\n",
        "\n",
        "        # Apply projection head if it exists\n",
        "        if self.projection_head:\n",
        "            pooled_embeddings = self.projection_head(pooled_embeddings)\n",
        "\n",
        "        # Normalize the final embeddings\n",
        "        final_embeddings = normalize_embeddings(pooled_embeddings)\n",
        "\n",
        "        # Update the features dictionary with our final sentence embedding\n",
        "        features.update({'sentence_embedding': final_embeddings})\n",
        "        return features\n",
        "\n",
        "    # This method tells the SentenceTransformer what the final output dimension will be.\n",
        "    def get_sentence_embedding_dimension(self):\n",
        "        return self.projection_dim if self.projection_dim is not None else super().get_sentence_embedding_dimension()"
      ],
      "metadata": {
        "id": "_fqsZeY9POyc"
      },
      "execution_count": 4,
      "outputs": []
    },
    {
      "cell_type": "code",
      "source": [
        "# ==============================================================================\n",
        "# Step 3: Load and Prepare the MTEB Dataset (STSBenchmark)\n",
        "# ==============================================================================\n",
        "print(\"\\nLoading STSBenchmark dataset from MTEB...\")\n",
        "stsb_dataset = load_dataset(\"mteb/stsbenchmark-sts\")\n",
        "\n",
        "train_samples, dev_samples, test_samples = [], [], []\n",
        "\n",
        "for split in stsb_dataset:\n",
        "    for example in stsb_dataset[split]:\n",
        "        score = float(example['score']) / 5.0 # Normalize score to [0, 1]\n",
        "        input_example = InputExample(texts=[example['sentence1'], example['sentence2']], label=score)\n",
        "\n",
        "        if split == 'train': train_samples.append(input_example)\n",
        "        elif split == 'validation': dev_samples.append(input_example)\n",
        "        elif split == 'test': test_samples.append(input_example)\n",
        "\n",
        "print(f\"Dataset loaded. Train: {len(train_samples)}, Dev: {len(dev_samples)}, Test: {len(test_samples)}\")"
      ],
      "metadata": {
        "colab": {
          "base_uri": "https://localhost:8080/"
        },
        "id": "S213R3luPUmq",
        "outputId": "1926e958-7f91-4315-e1ea-4ef0103c4a9e"
      },
      "execution_count": 6,
      "outputs": [
        {
          "output_type": "stream",
          "name": "stdout",
          "text": [
            "\n",
            "Loading STSBenchmark dataset from MTEB...\n",
            "Dataset loaded. Train: 5749, Dev: 1500, Test: 1379\n"
          ]
        }
      ]
    },
    {
      "cell_type": "code",
      "source": [
        "# ==============================================================================\n",
        "# Step 4: Configure the Model and Training\n",
        "# ==============================================================================\n",
        "MODEL_NAME = 'BAAI/bge-small-en-v1.5'\n",
        "\n",
        "# --- CHOOSE YOUR CONFIGURATION HERE ---\n",
        "# Option 1: Mean Pooling (Recommended starting point) gave 90%\n",
        "custom_transformer_module = CustomBGETransformer(MODEL_NAME, pooling_strategy='mean')\n",
        "\n",
        "# Option 2: CLS Pooling gave 87%\n",
        "#custom_transformer_module = CustomBGETransformer(MODEL_NAME, pooling_strategy='cls')\n",
        "\n",
        "# Option 3: Mean Pooling + Projection Head gave 86%\n",
        "#custom_transformer_module = CustomBGETransformer(MODEL_NAME, pooling_strategy='mean', projection_dim=256)\n",
        "\n",
        "\n",
        "# The SentenceTransformer wrapper now correctly manages our custom module.\n",
        "model = SentenceTransformer(modules=[custom_transformer_module])"
      ],
      "metadata": {
        "colab": {
          "base_uri": "https://localhost:8080/"
        },
        "id": "bEKTLoWDPekA",
        "outputId": "b55da6c5-f2da-49db-cec2-7faf917ba04b"
      },
      "execution_count": 18,
      "outputs": [
        {
          "output_type": "stream",
          "name": "stdout",
          "text": [
            "\n",
            "CustomBGETransformer initialized with:\n",
            "  - Base Model: BAAI/bge-small-en-v1.5\n",
            "  - Pooling Strategy: mean\n",
            "  - Projection Head: Yes (256-dim)\n"
          ]
        }
      ]
    },
    {
      "cell_type": "code",
      "source": [
        "# --- Training Parameters ---\n",
        "train_batch_size = 16\n",
        "num_epochs = 2\n",
        "model_save_path = 'output/bge-small-finetuned-stsb'\n",
        "\n",
        "train_dataloader = DataLoader(train_samples, shuffle=True, batch_size=train_batch_size)\n",
        "train_loss = losses.CosineSimilarityLoss(model=model)\n",
        "evaluator = EmbeddingSimilarityEvaluator.from_input_examples(dev_samples, name='sts-dev')\n",
        "warmup_steps = math.ceil(len(train_dataloader) * num_epochs * 0.1)"
      ],
      "metadata": {
        "id": "hhqaU7_CPla8"
      },
      "execution_count": 19,
      "outputs": []
    },
    {
      "cell_type": "code",
      "source": [
        "# ==============================================================================\n",
        "# Step 5: Fine-Tune the Model\n",
        "# ==============================================================================\n",
        "print(\"\\nStarting model fine-tuning...\")\n",
        "model.fit(train_objectives=[(train_dataloader, train_loss)],\n",
        "          evaluator=evaluator,\n",
        "          epochs=num_epochs,\n",
        "          evaluation_steps=500,\n",
        "          warmup_steps=warmup_steps,\n",
        "          output_path=model_save_path,\n",
        "          show_progress_bar=True)\n",
        "\n",
        "print(f\"\\nFine-tuning complete. Best model saved to: {model_save_path}\")"
      ],
      "metadata": {
        "colab": {
          "base_uri": "https://localhost:8080/",
          "height": 239,
          "referenced_widgets": [
            "db6624e2f0804356be5b5a9508e06907",
            "37f5d808106a43f99ce7f0002c8739a6",
            "9dbcc5e1367b457e829063816b7b9831",
            "212f7be0446f4940aecffb4b06672937",
            "11a21daed24d4a8c938738883b41eee7",
            "443561dc62494abe9f5be3f6a5fee3e7",
            "568960291fe74f7bac22d82b9de7e224",
            "6dee228ed1024119b02c82fde2070e10",
            "77d0652366dc4116846e2fe9d724cfdc",
            "0f195df84610433397fed6e2a7ed572c",
            "2a1c67ee540849b18819754d7fd1e7b3"
          ]
        },
        "id": "d7cfZN4yOvAe",
        "outputId": "bb234738-195e-4abe-ea73-ab06794cf09e"
      },
      "execution_count": 20,
      "outputs": [
        {
          "output_type": "stream",
          "name": "stdout",
          "text": [
            "\n",
            "Starting model fine-tuning...\n"
          ]
        },
        {
          "output_type": "display_data",
          "data": {
            "text/plain": [
              "Computing widget examples:   0%|          | 0/1 [00:00<?, ?example/s]"
            ],
            "application/vnd.jupyter.widget-view+json": {
              "version_major": 2,
              "version_minor": 0,
              "model_id": "db6624e2f0804356be5b5a9508e06907"
            }
          },
          "metadata": {}
        },
        {
          "output_type": "display_data",
          "data": {
            "text/plain": [
              "<IPython.core.display.HTML object>"
            ],
            "text/html": [
              "\n",
              "    <div>\n",
              "      \n",
              "      <progress value='720' max='720' style='width:300px; height:20px; vertical-align: middle;'></progress>\n",
              "      [720/720 01:09, Epoch 2/2]\n",
              "    </div>\n",
              "    <table border=\"1\" class=\"dataframe\">\n",
              "  <thead>\n",
              " <tr style=\"text-align: left;\">\n",
              "      <th>Step</th>\n",
              "      <th>Training Loss</th>\n",
              "      <th>Validation Loss</th>\n",
              "      <th>Sts-dev Pearson Cosine</th>\n",
              "      <th>Sts-dev Spearman Cosine</th>\n",
              "    </tr>\n",
              "  </thead>\n",
              "  <tbody>\n",
              "    <tr>\n",
              "      <td>360</td>\n",
              "      <td>No log</td>\n",
              "      <td>No log</td>\n",
              "      <td>0.886214</td>\n",
              "      <td>0.888489</td>\n",
              "    </tr>\n",
              "    <tr>\n",
              "      <td>500</td>\n",
              "      <td>0.026700</td>\n",
              "      <td>No log</td>\n",
              "      <td>0.886812</td>\n",
              "      <td>0.889321</td>\n",
              "    </tr>\n",
              "    <tr>\n",
              "      <td>720</td>\n",
              "      <td>0.026700</td>\n",
              "      <td>No log</td>\n",
              "      <td>0.887885</td>\n",
              "      <td>0.890387</td>\n",
              "    </tr>\n",
              "  </tbody>\n",
              "</table><p>"
            ]
          },
          "metadata": {}
        },
        {
          "output_type": "stream",
          "name": "stdout",
          "text": [
            "\n",
            "Fine-tuning complete. Best model saved to: output/bge-small-finetuned-stsb\n"
          ]
        }
      ]
    },
    {
      "cell_type": "code",
      "source": [
        "# ==============================================================================\n",
        "# Step 6: Evaluate the Fine-Tuned Model on the Test Set\n",
        "# ==============================================================================\n",
        "print(\"\\nEvaluating the fine-tuned model on the test set...\")\n",
        "model = SentenceTransformer(model_save_path)\n",
        "test_evaluator = EmbeddingSimilarityEvaluator.from_input_examples(test_samples, name='sts-test')\n",
        "test_evaluator(model, output_path=model_save_path)\n",
        "print(\"\\nEvaluation on test set complete. Results are saved in the output directory.\")"
      ],
      "metadata": {
        "colab": {
          "base_uri": "https://localhost:8080/"
        },
        "id": "5hV7de0tOvGC",
        "outputId": "7e39d145-5673-496f-b0fc-43157ce7b507"
      },
      "execution_count": 22,
      "outputs": [
        {
          "output_type": "stream",
          "name": "stdout",
          "text": [
            "\n",
            "Evaluating the fine-tuned model on the test set...\n",
            "\n",
            "CustomBGETransformer initialized with:\n",
            "  - Base Model: output/bge-small-finetuned-stsb\n",
            "  - Pooling Strategy: mean\n",
            "  - Projection Head: No\n",
            "\n",
            "Evaluation on test set complete. Results are saved in the output directory.\n"
          ]
        }
      ]
    },
    {
      "cell_type": "code",
      "source": [
        "print(\"\\nEvaluation Results:\")\n",
        "results = test_evaluator(model, output_path=model_save_path)\n",
        "print(results)"
      ],
      "metadata": {
        "colab": {
          "base_uri": "https://localhost:8080/"
        },
        "id": "JJ0mwGtRQYDU",
        "outputId": "4e0ccbaf-ca11-41eb-9327-45dde2ca2421"
      },
      "execution_count": 23,
      "outputs": [
        {
          "output_type": "stream",
          "name": "stdout",
          "text": [
            "\n",
            "Evaluation Results:\n",
            "{'sts-test_pearson_cosine': 0.8675687030074057, 'sts-test_spearman_cosine': 0.8731718078957199}\n"
          ]
        }
      ]
    }
  ]
}