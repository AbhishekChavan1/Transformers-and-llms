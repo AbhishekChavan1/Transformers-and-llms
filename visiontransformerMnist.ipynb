{
  "nbformat": 4,
  "nbformat_minor": 0,
  "metadata": {
    "colab": {
      "provenance": [],
      "gpuType": "T4"
    },
    "kernelspec": {
      "name": "python3",
      "display_name": "Python 3"
    },
    "language_info": {
      "name": "python"
    },
    "accelerator": "GPU"
  },
  "cells": [
    {
      "cell_type": "code",
      "execution_count": 1,
      "metadata": {
        "id": "bqe5NqiTUl14"
      },
      "outputs": [],
      "source": [
        "import torch\n",
        "import torchvision\n",
        "import torchvision.transforms as transforms\n",
        "import matplotlib.pyplot as plt\n",
        "import numpy as np\n",
        "import torch.nn as nn"
      ]
    },
    {
      "cell_type": "code",
      "source": [
        "batch_size = 64\n",
        "img_size = 28\n",
        "patch_size = 7\n",
        "num_channels = 1\n",
        "num_patches = (img_size // patch_size) ** 2\n",
        "num_heads = 1\n",
        "embed_dim = 16\n",
        "mlp_dim = 16\n",
        "transformer_units = 1\n",
        "transform = transforms.Compose([transforms.ToTensor()])"
      ],
      "metadata": {
        "id": "0pLVqs7CVobs"
      },
      "execution_count": 2,
      "outputs": []
    },
    {
      "cell_type": "code",
      "source": [
        "trainset = torchvision.datasets.MNIST(root='./data', train=True,download=True, transform=transform)\n",
        "valset = torchvision.datasets.MNIST(root='./data', train=False,download=True, transform=transform)\n",
        "train_data = torch.utils.data.DataLoader(trainset, batch_size=batch_size,shuffle=True)\n",
        "val_data = torch.utils.data.DataLoader(valset, batch_size=batch_size,shuffle=False)"
      ],
      "metadata": {
        "id": "yeAjyrD7Uwaw",
        "colab": {
          "base_uri": "https://localhost:8080/"
        },
        "outputId": "456663d8-99ac-421e-8097-35dcc0d10daa"
      },
      "execution_count": 4,
      "outputs": [
        {
          "output_type": "stream",
          "name": "stderr",
          "text": [
            "100%|██████████| 9.91M/9.91M [00:00<00:00, 16.1MB/s]\n",
            "100%|██████████| 28.9k/28.9k [00:00<00:00, 493kB/s]\n",
            "100%|██████████| 1.65M/1.65M [00:00<00:00, 4.56MB/s]\n",
            "100%|██████████| 4.54k/4.54k [00:00<00:00, 8.08MB/s]\n"
          ]
        }
      ]
    },
    {
      "cell_type": "code",
      "source": [
        "class PatchEmbedding(nn.Module):\n",
        "    def __init__(self):\n",
        "        super().__init__()\n",
        "        self.patch_embed = nn.Conv2d(num_channels, embed_dim, kernel_size=patch_size, stride=patch_size)\n",
        "\n",
        "    def forward(self, x):\n",
        "        x = self.patch_embed(x)\n",
        "        x = x.flatten(2)\n",
        "        x = x.transpose(1,2)\n",
        "        return x"
      ],
      "metadata": {
        "id": "raej4gAFWG0O"
      },
      "execution_count": 6,
      "outputs": []
    },
    {
      "cell_type": "code",
      "source": [
        "class TransformerArchitecture(nn.Module):\n",
        "    def __init__(self):\n",
        "        super().__init__()\n",
        "        self.layer_norm_1 = nn.LayerNorm(embed_dim)\n",
        "        self.self_attention = nn.MultiheadAttention(embed_dim, num_heads, batch_first=True)\n",
        "        self.layer_norm_2 = nn.LayerNorm(embed_dim)\n",
        "        self.multi_layer_perceptron = nn.Sequential(\n",
        "            nn.Linear(embed_dim, mlp_dim),\n",
        "            nn.GELU(),\n",
        "            nn.Linear(mlp_dim, embed_dim)\n",
        "        )\n",
        "\n",
        "    def forward(self, x):\n",
        "        residual_1 = x\n",
        "        attention_output = self.self_attention(self.layer_norm_1(x),self.layer_norm_1(x),self.layer_norm_1(x))[0]\n",
        "        x = attention_output + residual_1\n",
        "        residual_2 = x\n",
        "        mlp_output = self.multi_layer_perceptron(self.layer_norm_2(x))\n",
        "        x = mlp_output + residual_2\n",
        "        return x"
      ],
      "metadata": {
        "id": "Kbu5iXfycw4o"
      },
      "execution_count": 7,
      "outputs": []
    },
    {
      "cell_type": "code",
      "source": [
        "class VisionTransformer(nn.Module):\n",
        "    def __init__(self):\n",
        "        super().__init__()\n",
        "        self.patch_embedding = PatchEmbedding()\n",
        "        self.cls_token = nn.Parameter(torch.randn(1,1,embed_dim))\n",
        "        self.pos_embed = nn.Parameter(torch.randn(1, (img_size // patch_size) ** 2 + 1, embed_dim))\n",
        "        self.transformer_layers = nn.Sequential(*[TransformerArchitecture() for _ in range(transformer_units)])\n",
        "\n",
        "        self.mlp_head = nn.Sequential(\n",
        "            nn.LayerNorm(embed_dim),\n",
        "            nn.Linear(embed_dim, 10)\n",
        "        )\n",
        "\n",
        "    def forward(self,x):\n",
        "        x = self.patch_embedding(x)\n",
        "        B = x.size(0)\n",
        "\n",
        "        cls_tokens = self.cls_token.expand(B , -1, -1)\n",
        "        x = torch.cat((cls_tokens, x), dim=1)\n",
        "        x = x + self.pos_embed\n",
        "        x = self.transformer_layers(x)\n",
        "        x = x[:,0]\n",
        "        x = self.mlp_head(x)\n",
        "        return x"
      ],
      "metadata": {
        "id": "SxNgMYCcfMwm"
      },
      "execution_count": 8,
      "outputs": []
    },
    {
      "cell_type": "code",
      "source": [
        "device = torch.device(\"cuda\" if torch.cuda.is_available() else \"cpu\")\n",
        "model = VisionTransformer().to(device)\n",
        "optimizer = torch.optim.Adam(model.parameters(), lr=0.01)\n",
        "criterion = nn.CrossEntropyLoss()"
      ],
      "metadata": {
        "id": "jf7edzGPhTI-"
      },
      "execution_count": 9,
      "outputs": []
    },
    {
      "cell_type": "code",
      "source": [
        "for epoch in range(5):\n",
        "    model.train()\n",
        "    total_loss = 0\n",
        "    correct_epoch = 0\n",
        "    total_epoch = 0\n",
        "    print(f\"\\nEpoch {epoch+1}\")\n",
        "\n",
        "    for batch_idx, (images, labels) in enumerate(train_data):\n",
        "        images, labels = images.to(device), labels.to(device)\n",
        "        optimizer.zero_grad()\n",
        "        outputs = model(images)\n",
        "        loss = criterion(outputs, labels)\n",
        "        loss.backward()\n",
        "        optimizer.step()\n",
        "\n",
        "        total_loss+=loss.item()\n",
        "        preds = outputs.argmax(dim=1)\n",
        "        correct = (preds == labels).sum().item()\n",
        "        accuracy = 100.0 * correct / labels.size(0)\n",
        "\n",
        "        correct_epoch += correct\n",
        "        total_epoch += labels.size(0)\n",
        "        if batch_idx % 100 == 0:\n",
        "            print(f\"  Batch {batch_idx+1:3d}: Loss = {loss.item():.4f}, Accuracy = {accuracy:.2f}%\")\n",
        "\n",
        "    epoch_acc = 100.0 * correct_epoch / total_epoch\n",
        "    print(f\"==> Epoch {epoch+1} Summary: Total Loss = {total_loss:.4f}, Accuracy = {epoch_acc:.2f}%\")"
      ],
      "metadata": {
        "id": "_5-pmMHqhaUW",
        "colab": {
          "base_uri": "https://localhost:8080/"
        },
        "outputId": "e054100e-4678-43a0-b6c0-10690e5fcf1c"
      },
      "execution_count": 10,
      "outputs": [
        {
          "output_type": "stream",
          "name": "stdout",
          "text": [
            "\n",
            "Epoch 1\n",
            "  Batch   1: Loss = 2.5207, Accuracy = 12.50%\n",
            "  Batch 101: Loss = 1.3461, Accuracy = 60.94%\n",
            "  Batch 201: Loss = 0.9587, Accuracy = 65.62%\n",
            "  Batch 301: Loss = 0.9357, Accuracy = 68.75%\n",
            "  Batch 401: Loss = 1.1185, Accuracy = 71.88%\n",
            "  Batch 501: Loss = 0.5154, Accuracy = 85.94%\n",
            "  Batch 601: Loss = 0.7247, Accuracy = 78.12%\n",
            "  Batch 701: Loss = 0.5944, Accuracy = 82.81%\n",
            "  Batch 801: Loss = 0.8265, Accuracy = 73.44%\n",
            "  Batch 901: Loss = 0.5816, Accuracy = 85.94%\n",
            "==> Epoch 1 Summary: Total Loss = 850.2280, Accuracy = 69.16%\n",
            "\n",
            "Epoch 2\n",
            "  Batch   1: Loss = 0.4155, Accuracy = 85.94%\n",
            "  Batch 101: Loss = 0.4437, Accuracy = 87.50%\n",
            "  Batch 201: Loss = 0.6358, Accuracy = 84.38%\n",
            "  Batch 301: Loss = 0.4758, Accuracy = 84.38%\n",
            "  Batch 401: Loss = 0.4241, Accuracy = 85.94%\n",
            "  Batch 501: Loss = 0.6019, Accuracy = 81.25%\n",
            "  Batch 601: Loss = 0.6169, Accuracy = 81.25%\n",
            "  Batch 701: Loss = 0.5362, Accuracy = 78.12%\n",
            "  Batch 801: Loss = 0.2465, Accuracy = 89.06%\n",
            "  Batch 901: Loss = 0.4580, Accuracy = 85.94%\n",
            "==> Epoch 2 Summary: Total Loss = 480.7688, Accuracy = 83.67%\n",
            "\n",
            "Epoch 3\n",
            "  Batch   1: Loss = 0.6831, Accuracy = 82.81%\n",
            "  Batch 101: Loss = 0.4621, Accuracy = 87.50%\n",
            "  Batch 201: Loss = 0.3610, Accuracy = 89.06%\n",
            "  Batch 301: Loss = 0.3520, Accuracy = 87.50%\n",
            "  Batch 401: Loss = 0.4058, Accuracy = 84.38%\n",
            "  Batch 501: Loss = 0.3263, Accuracy = 87.50%\n",
            "  Batch 601: Loss = 0.3747, Accuracy = 90.62%\n",
            "  Batch 701: Loss = 0.3529, Accuracy = 89.06%\n",
            "  Batch 801: Loss = 0.3065, Accuracy = 84.38%\n",
            "  Batch 901: Loss = 0.3637, Accuracy = 87.50%\n",
            "==> Epoch 3 Summary: Total Loss = 398.3900, Accuracy = 86.32%\n",
            "\n",
            "Epoch 4\n",
            "  Batch   1: Loss = 0.3436, Accuracy = 90.62%\n",
            "  Batch 101: Loss = 0.8079, Accuracy = 79.69%\n",
            "  Batch 201: Loss = 0.4638, Accuracy = 87.50%\n",
            "  Batch 301: Loss = 0.4063, Accuracy = 87.50%\n",
            "  Batch 401: Loss = 0.3095, Accuracy = 90.62%\n",
            "  Batch 501: Loss = 0.3551, Accuracy = 89.06%\n",
            "  Batch 601: Loss = 0.2423, Accuracy = 90.62%\n",
            "  Batch 701: Loss = 0.5011, Accuracy = 87.50%\n",
            "  Batch 801: Loss = 0.4157, Accuracy = 84.38%\n",
            "  Batch 901: Loss = 0.3451, Accuracy = 89.06%\n",
            "==> Epoch 4 Summary: Total Loss = 365.2960, Accuracy = 87.64%\n",
            "\n",
            "Epoch 5\n",
            "  Batch   1: Loss = 0.2131, Accuracy = 93.75%\n",
            "  Batch 101: Loss = 0.4280, Accuracy = 89.06%\n",
            "  Batch 201: Loss = 0.3062, Accuracy = 89.06%\n",
            "  Batch 301: Loss = 0.3183, Accuracy = 92.19%\n",
            "  Batch 401: Loss = 0.4751, Accuracy = 85.94%\n",
            "  Batch 501: Loss = 0.2417, Accuracy = 95.31%\n",
            "  Batch 601: Loss = 0.2459, Accuracy = 92.19%\n",
            "  Batch 701: Loss = 0.3671, Accuracy = 85.94%\n",
            "  Batch 801: Loss = 0.2946, Accuracy = 95.31%\n",
            "  Batch 901: Loss = 0.1677, Accuracy = 95.31%\n",
            "==> Epoch 5 Summary: Total Loss = 341.2378, Accuracy = 88.41%\n"
          ]
        }
      ]
    },
    {
      "cell_type": "code",
      "source": [
        "model.eval()\n",
        "correct = 0\n",
        "total = 0\n",
        "\n",
        "with torch.no_grad():\n",
        "    for images, labels in val_data:\n",
        "        images, labels = images.to(device), labels.to(device)\n",
        "        outputs = model(images)\n",
        "        preds = outputs.argmax(dim=1)\n",
        "        correct += (preds == labels).sum().item()\n",
        "        total += labels.size(0)\n",
        "\n",
        "test_acc = 100.0 * correct / total\n",
        "print(f\"\\n==> Val Accuracy: {test_acc:.2f}%\")"
      ],
      "metadata": {
        "id": "ULQNNN-wsXXK",
        "colab": {
          "base_uri": "https://localhost:8080/"
        },
        "outputId": "893abed3-c9d2-4927-da32-b94695b6327f"
      },
      "execution_count": 11,
      "outputs": [
        {
          "output_type": "stream",
          "name": "stdout",
          "text": [
            "\n",
            "==> Val Accuracy: 87.61%\n"
          ]
        }
      ]
    },
    {
      "cell_type": "code",
      "source": [
        "model.eval()\n",
        "images, labels = next(iter(val_data))\n",
        "images, labels = images.to(device), labels.to(device)\n",
        "\n",
        "with torch.no_grad():\n",
        "    outputs = model(images)\n",
        "    preds = outputs.argmax(dim=1)\n",
        "\n",
        "plt.figure(figsize=(12, 4))\n",
        "for i in range(20):\n",
        "    plt.subplot(4, 5, i+1)\n",
        "    plt.imshow(images[i].squeeze().cpu(), cmap='gray')\n",
        "    plt.title(f\"Pred: {preds[i].item()}\\nTrue: {labels[i].item()}\")\n",
        "    plt.axis('off')\n",
        "plt.tight_layout()\n",
        "plt.show()"
      ],
      "metadata": {
        "id": "TBZ3pQXMskB8",
        "colab": {
          "base_uri": "https://localhost:8080/",
          "height": 407
        },
        "outputId": "20242e57-3824-47bd-fa43-a92e174de629"
      },
      "execution_count": 13,
      "outputs": [
        {
          "output_type": "display_data",
          "data": {
            "text/plain": [
              "<Figure size 1200x400 with 20 Axes>"
            ],
            "image/png": "[encoded data removed]"
          },
          "metadata": {}
        }
      ]
    },
    {
      "cell_type": "code",
      "metadata": {
        "id": "7d3067a0",
        "colab": {
          "base_uri": "https://localhost:8080/"
        },
        "outputId": "47347e26-4375-40f5-c011-2131451d6c19"
      },
      "source": [
        "images, labels = next(iter(val_data))\n",
        "print(\"Shape of images in a batch:\", images.shape)\n",
        "patch_embed = nn.Conv2d(num_channels, embed_dim, kernel_size=patch_size, stride=patch_size)\n",
        "embedded_data = patch_embed(images)\n",
        "embedded_data = embedded_data.flatten(2)\n",
        "embedded_data = embedded_data.transpose(1,2)\n",
        "print(\"Shape of embedded data:\", embedded_data.shape)\n",
        "print(torch.randn(1,1,embed_dim).shape)\n",
        "print(\"Shape of labels in a batch:\", labels.shape)"
      ],
      "execution_count": 15,
      "outputs": [
        {
          "output_type": "stream",
          "name": "stdout",
          "text": [
            "Shape of images in a batch: torch.Size([64, 1, 28, 28])\n",
            "Shape of embedded data: torch.Size([64, 16, 16])\n",
            "torch.Size([1, 1, 16])\n",
            "Shape of labels in a batch: torch.Size([64])\n"
          ]
        }
      ]
    },
    {
      "cell_type": "code",
      "source": [],
      "metadata": {
        "id": "6b-Zj811KuJ9"
      },
      "execution_count": null,
      "outputs": []
    }
  ]
}